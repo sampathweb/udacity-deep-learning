{
 "cells": [
  {
   "cell_type": "markdown",
   "metadata": {
    "collapsed": true
   },
   "source": [
    "# Image Classification\n",
    "In this project, you'll classify images from the [CIFAR-10 dataset](https://www.cs.toronto.edu/~kriz/cifar.html).  The dataset consists of airplanes, dogs, cats, and other objects. You'll preprocess the images, then train a convolutional neural network on all the samples. The images need to be normalized and the labels need to be one-hot encoded.  You'll get to apply what you learned and build a convolutional, max pooling, dropout, and fully connected layers.  At the end, you'll get to see your neural network's predictions on the sample images.\n",
    "## Get the Data\n",
    "Run the following cell to download the [CIFAR-10 dataset for python](https://www.cs.toronto.edu/~kriz/cifar-10-python.tar.gz)."
   ]
  },
  {
   "cell_type": "code",
   "execution_count": 1,
   "metadata": {},
   "outputs": [
    {
     "name": "stderr",
     "output_type": "stream",
     "text": [
      "CIFAR-10 Dataset: 171MB [00:40, 4.18MB/s]                              \n"
     ]
    },
    {
     "name": "stdout",
     "output_type": "stream",
     "text": [
      "All files found!\n"
     ]
    }
   ],
   "source": [
    "\"\"\"\n",
    "DON'T MODIFY ANYTHING IN THIS CELL THAT IS BELOW THIS LINE\n",
    "\"\"\"\n",
    "from urllib.request import urlretrieve\n",
    "from os.path import isfile, isdir\n",
    "from tqdm import tqdm\n",
    "import problem_unittests as tests\n",
    "import tarfile\n",
    "\n",
    "cifar10_dataset_folder_path = 'cifar-10-batches-py'\n",
    "\n",
    "# Use Floyd's cifar-10 dataset if present\n",
    "floyd_cifar10_location = '/cifar/cifar-10-python.tar.gz'\n",
    "if isfile(floyd_cifar10_location):\n",
    "    tar_gz_path = floyd_cifar10_location\n",
    "else:\n",
    "    tar_gz_path = 'cifar-10-python.tar.gz'\n",
    "\n",
    "class DLProgress(tqdm):\n",
    "    last_block = 0\n",
    "\n",
    "    def hook(self, block_num=1, block_size=1, total_size=None):\n",
    "        self.total = total_size\n",
    "        self.update((block_num - self.last_block) * block_size)\n",
    "        self.last_block = block_num\n",
    "\n",
    "if not isfile(tar_gz_path):\n",
    "    with DLProgress(unit='B', unit_scale=True, miniters=1, desc='CIFAR-10 Dataset') as pbar:\n",
    "        urlretrieve(\n",
    "            'https://www.cs.toronto.edu/~kriz/cifar-10-python.tar.gz',\n",
    "            tar_gz_path,\n",
    "            pbar.hook)\n",
    "\n",
    "if not isdir(cifar10_dataset_folder_path):\n",
    "    with tarfile.open(tar_gz_path) as tar:\n",
    "        tar.extractall()\n",
    "        tar.close()\n",
    "\n",
    "\n",
    "tests.test_folder_path(cifar10_dataset_folder_path)"
   ]
  },
  {
   "cell_type": "markdown",
   "metadata": {},
   "source": [
    "## Explore the Data\n",
    "The dataset is broken into batches to prevent your machine from running out of memory.  The CIFAR-10 dataset consists of 5 batches, named `data_batch_1`, `data_batch_2`, etc.. Each batch contains the labels and images that are one of the following:\n",
    "* airplane\n",
    "* automobile\n",
    "* bird\n",
    "* cat\n",
    "* deer\n",
    "* dog\n",
    "* frog\n",
    "* horse\n",
    "* ship\n",
    "* truck\n",
    "\n",
    "Understanding a dataset is part of making predictions on the data.  Play around with the code cell below by changing the `batch_id` and `sample_id`. The `batch_id` is the id for a batch (1-5). The `sample_id` is the id for a image and label pair in the batch.\n",
    "\n",
    "Ask yourself \"What are all possible labels?\", \"What is the range of values for the image data?\", \"Are the labels in order or random?\".  Answers to questions like these will help you preprocess the data and end up with better predictions."
   ]
  },
  {
   "cell_type": "code",
   "execution_count": 2,
   "metadata": {},
   "outputs": [
    {
     "name": "stdout",
     "output_type": "stream",
     "text": [
      "\n",
      "Stats of batch 1:\n",
      "Samples: 10000\n",
      "Label Counts: {0: 1005, 1: 974, 2: 1032, 3: 1016, 4: 999, 5: 937, 6: 1030, 7: 1001, 8: 1025, 9: 981}\n",
      "First 20 Labels: [6, 9, 9, 4, 1, 1, 2, 7, 8, 3, 4, 7, 7, 2, 9, 9, 9, 3, 2, 6]\n",
      "\n",
      "Example of Image 5:\n",
      "Image - Min Value: 0 Max Value: 252\n",
      "Image - Shape: (32, 32, 3)\n",
      "Label - Label Id: 1 Name: automobile\n"
     ]
    },
    {
     "data": {
      "image/png": "[encoded data removed]",
      "text/plain": [
       "<matplotlib.figure.Figure at 0x7f62065a49e8>"
      ]
     },
     "metadata": {
      "image/png": {
       "height": 250,
       "width": 253
      }
     },
     "output_type": "display_data"
    }
   ],
   "source": [
    "%matplotlib inline\n",
    "%config InlineBackend.figure_format = 'retina'\n",
    "\n",
    "import helper\n",
    "import numpy as np\n",
    "\n",
    "# Explore the dataset\n",
    "batch_id = 1\n",
    "sample_id = 5\n",
    "helper.display_stats(cifar10_dataset_folder_path, batch_id, sample_id)"
   ]
  },
  {
   "cell_type": "markdown",
   "metadata": {},
   "source": [
    "## Implement Preprocess Functions\n",
    "### Normalize\n",
    "In the cell below, implement the `normalize` function to take in image data, `x`, and return it as a normalized Numpy array. The values should be in the range of 0 to 1, inclusive.  The return object should be the same shape as `x`."
   ]
  },
  {
   "cell_type": "code",
   "execution_count": 3,
   "metadata": {},
   "outputs": [
    {
     "name": "stdout",
     "output_type": "stream",
     "text": [
      "Tests Passed\n"
     ]
    }
   ],
   "source": [
    "def normalize(x):\n",
    "    \"\"\"\n",
    "    Normalize a list of sample image data in the range of 0 to 1\n",
    "    : x: List of image data.  The image shape is (32, 32, 3)\n",
    "    : return: Numpy array of normalize data\n",
    "    \"\"\"\n",
    "    # TODO: Implement Function\n",
    "    return x/255.\n",
    "\n",
    "\n",
    "\"\"\"\n",
    "DON'T MODIFY ANYTHING IN THIS CELL THAT IS BELOW THIS LINE\n",
    "\"\"\"\n",
    "tests.test_normalize(normalize)"
   ]
  },
  {
   "cell_type": "markdown",
   "metadata": {},
   "source": [
    "### One-hot encode\n",
    "Just like the previous code cell, you'll be implementing a function for preprocessing.  This time, you'll implement the `one_hot_encode` function. The input, `x`, are a list of labels.  Implement the function to return the list of labels as One-Hot encoded Numpy array.  The possible values for labels are 0 to 9. The one-hot encoding function should return the same encoding for each value between each call to `one_hot_encode`.  Make sure to save the map of encodings outside the function.\n",
    "\n",
    "Hint: Don't reinvent the wheel."
   ]
  },
  {
   "cell_type": "code",
   "execution_count": null,
   "metadata": {
    "collapsed": true
   },
   "outputs": [],
   "source": []
  },
  {
   "cell_type": "code",
   "execution_count": 10,
   "metadata": {},
   "outputs": [
    {
     "name": "stdout",
     "output_type": "stream",
     "text": [
      "Tests Passed\n"
     ]
    }
   ],
   "source": [
    "def one_hot_encode(x):\n",
    "    \"\"\"\n",
    "    One hot encode a list of sample labels. Return a one-hot encoded vector for each label.\n",
    "    : x: List of sample Labels\n",
    "    : return: Numpy array of one-hot encoded labels\n",
    "    \"\"\"\n",
    "    # TODO: Implement Function\n",
    "    m = len(x)\n",
    "    one_hot_values = np.zeros((m, 10))\n",
    "    one_hot_values[np.arange(m), x] = 1.\n",
    "    return one_hot_values\n",
    "\n",
    "\n",
    "\"\"\"\n",
    "DON'T MODIFY ANYTHING IN THIS CELL THAT IS BELOW THIS LINE\n",
    "\"\"\"\n",
    "tests.test_one_hot_encode(one_hot_encode)"
   ]
  },
  {
   "cell_type": "markdown",
   "metadata": {},
   "source": [
    "### Randomize Data\n",
    "As you saw from exploring the data above, the order of the samples are randomized.  It doesn't hurt to randomize it again, but you don't need to for this dataset."
   ]
  },
  {
   "cell_type": "markdown",
   "metadata": {},
   "source": [
    "## Preprocess all the data and save it\n",
    "Running the code cell below will preprocess all the CIFAR-10 data and save it to file. The code below also uses 10% of the training data for validation."
   ]
  },
  {
   "cell_type": "code",
   "execution_count": 11,
   "metadata": {
    "collapsed": true
   },
   "outputs": [],
   "source": [
    "\"\"\"\n",
    "DON'T MODIFY ANYTHING IN THIS CELL\n",
    "\"\"\"\n",
    "# Preprocess Training, Validation, and Testing Data\n",
    "helper.preprocess_and_save_data(cifar10_dataset_folder_path, normalize, one_hot_encode)"
   ]
  },
  {
   "cell_type": "markdown",
   "metadata": {},
   "source": [
    "# Check Point\n",
    "This is your first checkpoint.  If you ever decide to come back to this notebook or have to restart the notebook, you can start from here.  The preprocessed data has been saved to disk."
   ]
  },
  {
   "cell_type": "code",
   "execution_count": 1,
   "metadata": {
    "collapsed": true
   },
   "outputs": [],
   "source": [
    "\"\"\"\n",
    "DON'T MODIFY ANYTHING IN THIS CELL\n",
    "\"\"\"\n",
    "import pickle\n",
    "import problem_unittests as tests\n",
    "import helper\n",
    "\n",
    "# Load the Preprocessed Validation data\n",
    "valid_features, valid_labels = pickle.load(open('preprocess_validation.p', mode='rb'))"
   ]
  },
  {
   "cell_type": "markdown",
   "metadata": {},
   "source": [
    "## Build the network\n",
    "For the neural network, you'll build each layer into a function.  Most of the code you've seen has been outside of functions. To test your code more thoroughly, we require that you put each layer in a function.  This allows us to give you better feedback and test for simple mistakes using our unittests before you submit your project.\n",
    "\n",
    ">**Note:** If you're finding it hard to dedicate enough time for this course each week, we've provided a small shortcut to this part of the project. In the next couple of problems, you'll have the option to use classes from the [TensorFlow Layers](https://www.tensorflow.org/api_docs/python/tf/layers) or [TensorFlow Layers (contrib)](https://www.tensorflow.org/api_guides/python/contrib.layers) packages to build each layer, except the layers you build in the \"Convolutional and Max Pooling Layer\" section.  TF Layers is similar to Keras's and TFLearn's abstraction to layers, so it's easy to pickup.\n",
    "\n",
    ">However, if you would like to get the most out of this course, try to solve all the problems _without_ using anything from the TF Layers packages. You **can** still use classes from other packages that happen to have the same name as ones you find in TF Layers! For example, instead of using the TF Layers version of the `conv2d` class, [tf.layers.conv2d](https://www.tensorflow.org/api_docs/python/tf/layers/conv2d), you would want to use the TF Neural Network version of `conv2d`, [tf.nn.conv2d](https://www.tensorflow.org/api_docs/python/tf/nn/conv2d). \n",
    "\n",
    "Let's begin!\n",
    "\n",
    "### Input\n",
    "The neural network needs to read the image data, one-hot encoded labels, and dropout keep probability. Implement the following functions\n",
    "* Implement `neural_net_image_input`\n",
    " * Return a [TF Placeholder](https://www.tensorflow.org/api_docs/python/tf/placeholder)\n",
    " * Set the shape using `image_shape` with batch size set to `None`.\n",
    " * Name the TensorFlow placeholder \"x\" using the TensorFlow `name` parameter in the [TF Placeholder](https://www.tensorflow.org/api_docs/python/tf/placeholder).\n",
    "* Implement `neural_net_label_input`\n",
    " * Return a [TF Placeholder](https://www.tensorflow.org/api_docs/python/tf/placeholder)\n",
    " * Set the shape using `n_classes` with batch size set to `None`.\n",
    " * Name the TensorFlow placeholder \"y\" using the TensorFlow `name` parameter in the [TF Placeholder](https://www.tensorflow.org/api_docs/python/tf/placeholder).\n",
    "* Implement `neural_net_keep_prob_input`\n",
    " * Return a [TF Placeholder](https://www.tensorflow.org/api_docs/python/tf/placeholder) for dropout keep probability.\n",
    " * Name the TensorFlow placeholder \"keep_prob\" using the TensorFlow `name` parameter in the [TF Placeholder](https://www.tensorflow.org/api_docs/python/tf/placeholder).\n",
    "\n",
    "These names will be used at the end of the project to load your saved model.\n",
    "\n",
    "Note: `None` for shapes in TensorFlow allow for a dynamic size."
   ]
  },
  {
   "cell_type": "code",
   "execution_count": 2,
   "metadata": {},
   "outputs": [
    {
     "name": "stdout",
     "output_type": "stream",
     "text": [
      "Image Input Tests Passed.\n",
      "Label Input Tests Passed.\n",
      "Keep Prob Tests Passed.\n"
     ]
    }
   ],
   "source": [
    "import numpy as np\n",
    "import tensorflow as tf\n",
    "\n",
    "def neural_net_image_input(image_shape):\n",
    "    \"\"\"\n",
    "    Return a Tensor for a batch of image input\n",
    "    : image_shape: Shape of the images\n",
    "    : return: Tensor for image input.\n",
    "    \"\"\"\n",
    "    # TODO: Implement Function\n",
    "    return tf.placeholder(tf.float32, shape=[None, *image_shape], name=\"x\")\n",
    "\n",
    "\n",
    "def neural_net_label_input(n_classes):\n",
    "    \"\"\"\n",
    "    Return a Tensor for a batch of label input\n",
    "    : n_classes: Number of classes\n",
    "    : return: Tensor for label input.\n",
    "    \"\"\"\n",
    "    # TODO: Implement Function\n",
    "    return tf.placeholder(tf.float32, shape=[None, n_classes], name=\"y\")\n",
    "\n",
    "\n",
    "def neural_net_keep_prob_input():\n",
    "    \"\"\"\n",
    "    Return a Tensor for keep probability\n",
    "    : return: Tensor for keep probability.\n",
    "    \"\"\"\n",
    "    # TODO: Implement Function\n",
    "    return tf.placeholder(tf.float32, name=\"keep_prob\")\n",
    "\n",
    "\n",
    "\"\"\"\n",
    "DON'T MODIFY ANYTHING IN THIS CELL THAT IS BELOW THIS LINE\n",
    "\"\"\"\n",
    "tf.reset_default_graph()\n",
    "tests.test_nn_image_inputs(neural_net_image_input)\n",
    "tests.test_nn_label_inputs(neural_net_label_input)\n",
    "tests.test_nn_keep_prob_inputs(neural_net_keep_prob_input)"
   ]
  },
  {
   "cell_type": "markdown",
   "metadata": {},
   "source": [
    "### Convolution and Max Pooling Layer\n",
    "Convolution layers have a lot of success with images. For this code cell, you should implement the function `conv2d_maxpool` to apply convolution then max pooling:\n",
    "* Create the weight and bias using `conv_ksize`, `conv_num_outputs` and the shape of `x_tensor`.\n",
    "* Apply a convolution to `x_tensor` using weight and `conv_strides`.\n",
    " * We recommend you use same padding, but you're welcome to use any padding.\n",
    "* Add bias\n",
    "* Add a nonlinear activation to the convolution.\n",
    "* Apply Max Pooling using `pool_ksize` and `pool_strides`.\n",
    " * We recommend you use same padding, but you're welcome to use any padding.\n",
    "\n",
    "**Note:** You **can't** use [TensorFlow Layers](https://www.tensorflow.org/api_docs/python/tf/layers) or [TensorFlow Layers (contrib)](https://www.tensorflow.org/api_guides/python/contrib.layers) for **this** layer, but you can still use TensorFlow's [Neural Network](https://www.tensorflow.org/api_docs/python/tf/nn) package. You may still use the shortcut option for all the **other** layers."
   ]
  },
  {
   "cell_type": "code",
   "execution_count": 70,
   "metadata": {},
   "outputs": [
    {
     "name": "stdout",
     "output_type": "stream",
     "text": [
      "Tests Passed\n"
     ]
    }
   ],
   "source": [
    "def conv2d_maxpool(x_tensor, conv_num_outputs, conv_ksize, conv_strides, pool_ksize, pool_strides, \n",
    "                   conv_padding=\"SAME\", pool_padding=\"VALID\", activation_fn=tf.nn.relu):\n",
    "    \"\"\"\n",
    "    Apply convolution then max pooling to x_tensor\n",
    "    :param x_tensor: TensorFlow Tensor\n",
    "    :param conv_num_outputs: Number of outputs for the convolutional layer\n",
    "    :param conv_ksize: kernal size 2-D Tuple for the convolutional layer\n",
    "    :param conv_strides: Stride 2-D Tuple for convolution\n",
    "    :param pool_ksize: kernal size 2-D Tuple for pool\n",
    "    :param pool_strides: Stride 2-D Tuple for pool\n",
    "    : return: A tensor that represents convolution and max pooling of x_tensor\n",
    "    \"\"\"\n",
    "    # TODO: Implement Function\n",
    "    in_channels = x_tensor.get_shape()[-1].value\n",
    "    conv_W_shape = [conv_ksize[0], conv_ksize[1], in_channels, conv_num_outputs]\n",
    "    \n",
    "    # conv_W = tf.Variable(tf.truncated_normal(conv_W_shape, stddev=0.1))\n",
    "    # Try Xavier Initialization - tried both normal and uniform distributions\n",
    "    initializer = tf.contrib.layers.xavier_initializer_conv2d(uniform=True)\n",
    "    conv_W = tf.Variable(initializer(conv_W_shape))\n",
    "    conv_b = tf.Variable(tf.zeros(conv_num_outputs))\n",
    "    \n",
    "    # Create the conv layer\n",
    "    conv_out = tf.nn.bias_add(tf.nn.conv2d(x_tensor, conv_W, strides=[1, *conv_strides, 1], padding=conv_padding), \n",
    "                              conv_b)\n",
    "    conv_out = activation_fn(conv_out)\n",
    "    \n",
    "    # Create the pooling layer\n",
    "    pool_out = tf.nn.max_pool(conv_out, ksize=[1, *pool_ksize, 1], strides=[1, *pool_strides, 1], padding=pool_padding)\n",
    "    return pool_out\n",
    "\n",
    "\n",
    "\"\"\"\n",
    "DON'T MODIFY ANYTHING IN THIS CELL THAT IS BELOW THIS LINE\n",
    "\"\"\"\n",
    "tests.test_con_pool(conv2d_maxpool)"
   ]
  },
  {
   "cell_type": "markdown",
   "metadata": {},
   "source": [
    "### Flatten Layer\n",
    "Implement the `flatten` function to change the dimension of `x_tensor` from a 4-D tensor to a 2-D tensor.  The output should be the shape (*Batch Size*, *Flattened Image Size*). Shortcut option: you can use classes from the [TensorFlow Layers](https://www.tensorflow.org/api_docs/python/tf/layers) or [TensorFlow Layers (contrib)](https://www.tensorflow.org/api_guides/python/contrib.layers) packages for this layer. For more of a challenge, only use other TensorFlow packages."
   ]
  },
  {
   "cell_type": "code",
   "execution_count": 71,
   "metadata": {},
   "outputs": [
    {
     "name": "stdout",
     "output_type": "stream",
     "text": [
      "Tests Passed\n"
     ]
    }
   ],
   "source": [
    "def flatten(x_tensor):\n",
    "    \"\"\"\n",
    "    Flatten x_tensor to (Batch Size, Flattened Image Size)\n",
    "    : x_tensor: A tensor of size (Batch Size, ...), where ... are the image dimensions.\n",
    "    : return: A tensor of size (Batch Size, Flattened Image Size).\n",
    "    \"\"\"\n",
    "    # TODO: Implement Function\n",
    "    tensor_shape = x_tensor.get_shape()\n",
    "    flat_size = np.prod([tensor_shape[i].value for i in range(1, len(tensor_shape))])\n",
    "    return tf.reshape(x_tensor, shape=[-1, flat_size])\n",
    "\n",
    "\n",
    "\"\"\"\n",
    "DON'T MODIFY ANYTHING IN THIS CELL THAT IS BELOW THIS LINE\n",
    "\"\"\"\n",
    "tests.test_flatten(flatten)"
   ]
  },
  {
   "cell_type": "markdown",
   "metadata": {},
   "source": [
    "### Fully-Connected Layer\n",
    "Implement the `fully_conn` function to apply a fully connected layer to `x_tensor` with the shape (*Batch Size*, *num_outputs*). Shortcut option: you can use classes from the [TensorFlow Layers](https://www.tensorflow.org/api_docs/python/tf/layers) or [TensorFlow Layers (contrib)](https://www.tensorflow.org/api_guides/python/contrib.layers) packages for this layer. For more of a challenge, only use other TensorFlow packages."
   ]
  },
  {
   "cell_type": "code",
   "execution_count": 74,
   "metadata": {},
   "outputs": [
    {
     "name": "stdout",
     "output_type": "stream",
     "text": [
      "Tests Passed\n"
     ]
    }
   ],
   "source": [
    "def fully_conn(x_tensor, num_outputs, activation_fn=None, batch_norm=False):\n",
    "    \"\"\"\n",
    "    Apply a fully connected layer to x_tensor using weight and bias\n",
    "    : x_tensor: A 2-D tensor where the first dimension is batch size.\n",
    "    : num_outputs: The number of output that the new tensor should be.\n",
    "    : return: A 2-D tensor where the second dimension is num_outputs.\n",
    "    \"\"\"\n",
    "    # TODO: Implement Function\n",
    "    in_nodes = x_tensor.get_shape()[-1].value\n",
    "    \n",
    "    # tf.truncated_normal(shape=(in_nodes, num_outputs), stddev=0.1)\n",
    "    # Try Xavier Initializer\n",
    "    fc_W_shape = (in_nodes, num_outputs)\n",
    "    initializer = tf.contrib.layers.xavier_initializer(uniform=True)\n",
    "    fc_W = tf.Variable(initializer(fc_W_shape))\n",
    "    fc_b = tf.Variable(tf.zeros(num_outputs))\n",
    "    fc_out = tf.add(tf.matmul(x_tensor, fc_W), fc_b)\n",
    "    if batch_norm:\n",
    "        fc_out = tf.layers.batch_normalization(fc_out)\n",
    "    if activation_fn:\n",
    "        fc_out = activation_fn(fc_out)\n",
    "    return fc_out\n",
    "\n",
    "\n",
    "\"\"\"\n",
    "DON'T MODIFY ANYTHING IN THIS CELL THAT IS BELOW THIS LINE\n",
    "\"\"\"\n",
    "tests.test_fully_conn(fully_conn)"
   ]
  },
  {
   "cell_type": "markdown",
   "metadata": {},
   "source": [
    "### Output Layer\n",
    "Implement the `output` function to apply a fully connected layer to `x_tensor` with the shape (*Batch Size*, *num_outputs*). Shortcut option: you can use classes from the [TensorFlow Layers](https://www.tensorflow.org/api_docs/python/tf/layers) or [TensorFlow Layers (contrib)](https://www.tensorflow.org/api_guides/python/contrib.layers) packages for this layer. For more of a challenge, only use other TensorFlow packages.\n",
    "\n",
    "**Note:** Activation, softmax, or cross entropy should **not** be applied to this."
   ]
  },
  {
   "cell_type": "code",
   "execution_count": 75,
   "metadata": {},
   "outputs": [
    {
     "name": "stdout",
     "output_type": "stream",
     "text": [
      "Tests Passed\n"
     ]
    }
   ],
   "source": [
    "def output(x_tensor, num_outputs):\n",
    "    \"\"\"\n",
    "    Apply a output layer to x_tensor using weight and bias\n",
    "    : x_tensor: A 2-D tensor where the first dimension is batch size.\n",
    "    : num_outputs: The number of output that the new tensor should be.\n",
    "    : return: A 2-D tensor where the second dimension is num_outputs.\n",
    "    \"\"\"\n",
    "    # TODO: Implement Function\n",
    "    return fully_conn(x_tensor, num_outputs, activation_fn=None)\n",
    "\n",
    "\n",
    "\"\"\"\n",
    "DON'T MODIFY ANYTHING IN THIS CELL THAT IS BELOW THIS LINE\n",
    "\"\"\"\n",
    "tests.test_output(output)"
   ]
  },
  {
   "cell_type": "markdown",
   "metadata": {},
   "source": [
    "### Create Convolutional Model\n",
    "Implement the function `conv_net` to create a convolutional neural network model. The function takes in a batch of images, `x`, and outputs logits.  Use the layers you created above to create this model:\n",
    "\n",
    "* Apply 1, 2, or 3 Convolution and Max Pool layers\n",
    "* Apply a Flatten Layer\n",
    "* Apply 1, 2, or 3 Fully Connected Layers\n",
    "* Apply an Output Layer\n",
    "* Return the output\n",
    "* Apply [TensorFlow's Dropout](https://www.tensorflow.org/api_docs/python/tf/nn/dropout) to one or more layers in the model using `keep_prob`. "
   ]
  },
  {
   "cell_type": "code",
   "execution_count": 76,
   "metadata": {},
   "outputs": [
    {
     "name": "stdout",
     "output_type": "stream",
     "text": [
      "Neural Network Built!\n"
     ]
    }
   ],
   "source": [
    "def conv_net(x, keep_prob, num_outputs=10):\n",
    "    \"\"\"\n",
    "    Create a convolutional neural network model\n",
    "    : x: Placeholder tensor that holds image data.\n",
    "    : keep_prob: Placeholder tensor that hold dropout keep probability.\n",
    "    : return: Tensor that represents logits\n",
    "    \"\"\"\n",
    "    # TODO: Apply 1, 2, or 3 Convolution and Max Pool layers\n",
    "    #    Play around with different number of outputs, kernel size and stride\n",
    "    # Function Definition from Above:\n",
    "    #    conv2d_maxpool(x_tensor, conv_num_outputs, conv_ksize, conv_strides, pool_ksize, pool_strides)\n",
    "\n",
    "    # TODO: Apply a Flatten Layer\n",
    "    # Function Definition from Above:\n",
    "    #   flatten(x_tensor)\n",
    "    \n",
    "    # TODO: Apply 1, 2, or 3 Fully Connected Layers\n",
    "    #    Play around with different number of outputs\n",
    "    # Function Definition from Above:\n",
    "    #   fully_conn(x_tensor, num_outputs)\n",
    "    \n",
    "    \n",
    "    # TODO: Apply an Output Layer\n",
    "    #    Set this to the number of classes\n",
    "    # Function Definition from Above:\n",
    "    #   output(x_tensor, num_outputs)\n",
    "    \n",
    "    \n",
    "\n",
    "\n",
    "    # Lets Build a Architecture similar to LeNet\n",
    "    # input => Conv, Relu, Pool => Conv, Relu, Pool => Flatten => FC Relu => FC\n",
    "\n",
    "    # Conv Layers\n",
    "    conv_layer1 = conv2d_maxpool(x, \n",
    "                            conv_num_outputs=64, conv_ksize=(3,3), conv_strides=(1,1), \n",
    "                            pool_ksize=(2,2), pool_strides=(2, 2),\n",
    "                            conv_padding=\"SAME\")\n",
    "    conv_layer1 = tf.nn.dropout(conv_layer1, keep_prob=tf.minimum(1., keep_prob*1.5))\n",
    "\n",
    "    conv_layer2 = conv2d_maxpool(conv_layer1,\n",
    "                            conv_num_outputs=128, conv_ksize=(3,3), conv_strides=(1,1), \n",
    "                            pool_ksize=(2,2), pool_strides=(2, 2),\n",
    "                            conv_padding=\"SAME\")\n",
    "    conv_layer2 = tf.nn.dropout(conv_layer2, keep_prob=tf.minimum(1., keep_prob*1.25))\n",
    "\n",
    "#     conv_layer3 = conv2d_maxpool(conv_layer2,\n",
    "#                             conv_num_outputs=256, conv_ksize=(3,3), conv_strides=(1,1), \n",
    "#                             pool_ksize=(2,2), pool_strides=(2, 2),\n",
    "#                             conv_padding=\"SAME\")\n",
    "#     conv_layer3 = tf.nn.dropout(conv_layer3, keep_prob=tf.minimum(1., keep_prob*1.5))\n",
    "    \n",
    "    flatten_layer = flatten(conv_layer2)\n",
    "    \n",
    "    # FC Layers\n",
    "    fc_layer1 = fully_conn(flatten_layer, 1024, activation_fn=tf.nn.relu)\n",
    "    fc_layer1 = tf.nn.dropout(fc_layer1, keep_prob=keep_prob)\n",
    "    \n",
    "    fc_layer2 = fully_conn(fc_layer1, 512, activation_fn=tf.nn.relu)    \n",
    "    fc_layer2 = tf.nn.dropout(fc_layer2, keep_prob=keep_prob)\n",
    "    \n",
    "    out_layer = output(fc_layer2, num_outputs)\n",
    "\n",
    "    return out_layer\n",
    "\n",
    "\"\"\"\n",
    "DON'T MODIFY ANYTHING IN THIS CELL THAT IS BELOW THIS LINE\n",
    "\"\"\"\n",
    "\n",
    "##############################\n",
    "## Build the Neural Network ##\n",
    "##############################\n",
    "\n",
    "# Remove previous weights, bias, inputs, etc..\n",
    "tf.reset_default_graph()\n",
    "\n",
    "# Inputs\n",
    "x = neural_net_image_input((32, 32, 3))\n",
    "y = neural_net_label_input(10)\n",
    "keep_prob = neural_net_keep_prob_input()\n",
    "\n",
    "# Model\n",
    "logits = conv_net(x, keep_prob)\n",
    "\n",
    "# Name logits Tensor, so that is can be loaded from disk after training\n",
    "logits = tf.identity(logits, name='logits')\n",
    "\n",
    "# Loss and Optimizer\n",
    "cost = tf.reduce_mean(tf.nn.softmax_cross_entropy_with_logits(logits=logits, labels=y))\n",
    "optimizer = tf.train.AdamOptimizer().minimize(cost)\n",
    "\n",
    "# Accuracy\n",
    "correct_pred = tf.equal(tf.argmax(logits, 1), tf.argmax(y, 1))\n",
    "accuracy = tf.reduce_mean(tf.cast(correct_pred, tf.float32), name='accuracy')\n",
    "\n",
    "tests.test_conv_net(conv_net)"
   ]
  },
  {
   "cell_type": "markdown",
   "metadata": {},
   "source": [
    "## Train the Neural Network\n",
    "### Single Optimization\n",
    "Implement the function `train_neural_network` to do a single optimization.  The optimization should use `optimizer` to optimize in `session` with a `feed_dict` of the following:\n",
    "* `x` for image input\n",
    "* `y` for labels\n",
    "* `keep_prob` for keep probability for dropout\n",
    "\n",
    "This function will be called for each batch, so `tf.global_variables_initializer()` has already been called.\n",
    "\n",
    "Note: Nothing needs to be returned. This function is only optimizing the neural network."
   ]
  },
  {
   "cell_type": "code",
   "execution_count": 77,
   "metadata": {},
   "outputs": [
    {
     "name": "stdout",
     "output_type": "stream",
     "text": [
      "Tests Passed\n"
     ]
    }
   ],
   "source": [
    "def train_neural_network(session, optimizer, keep_probability, feature_batch, label_batch):\n",
    "    \"\"\"\n",
    "    Optimize the session on a batch of images and labels\n",
    "    : session: Current TensorFlow session\n",
    "    : optimizer: TensorFlow optimizer function\n",
    "    : keep_probability: keep probability\n",
    "    : feature_batch: Batch of Numpy image data\n",
    "    : label_batch: Batch of Numpy label data\n",
    "    \"\"\"\n",
    "    # TODO: Implement Function\n",
    "    session.run(optimizer, \n",
    "                feed_dict={\n",
    "                    x: feature_batch,\n",
    "                    y: label_batch,\n",
    "                    keep_prob: keep_probability})\n",
    "\n",
    "\n",
    "\"\"\"\n",
    "DON'T MODIFY ANYTHING IN THIS CELL THAT IS BELOW THIS LINE\n",
    "\"\"\"\n",
    "tests.test_train_nn(train_neural_network)"
   ]
  },
  {
   "cell_type": "markdown",
   "metadata": {},
   "source": [
    "### Show Stats\n",
    "Implement the function `print_stats` to print loss and validation accuracy.  Use the global variables `valid_features` and `valid_labels` to calculate validation accuracy.  Use a keep probability of `1.0` to calculate the loss and validation accuracy."
   ]
  },
  {
   "cell_type": "code",
   "execution_count": 78,
   "metadata": {
    "collapsed": true
   },
   "outputs": [],
   "source": [
    "def print_stats(session, feature_batch, label_batch, cost, accuracy):\n",
    "    \"\"\"\n",
    "    Print information about loss and validation accuracy\n",
    "    : session: Current TensorFlow session\n",
    "    : feature_batch: Batch of Numpy image data\n",
    "    : label_batch: Batch of Numpy label data\n",
    "    : cost: TensorFlow cost function\n",
    "    : accuracy: TensorFlow accuracy function\n",
    "    \"\"\"\n",
    "    # TODO: Implement Function\n",
    "    train_loss, train_accuracy = session.run([cost, accuracy], \n",
    "                                         feed_dict={\n",
    "                                             x: feature_batch,\n",
    "                                             y: label_batch,\n",
    "                                             keep_prob: 1.0})\n",
    "    \n",
    "    valid_loss, valid_accuracy = session.run([cost, accuracy], \n",
    "                                         feed_dict={\n",
    "                                             x: valid_features,\n",
    "                                             y: valid_labels,\n",
    "                                             keep_prob: 1.0})\n",
    "    \n",
    "    print(\"Train Loss: {:.4f}, Train Accuracy: {:.3f}, Valid Loss: {:.4f} Valid Accuracy: {:.3f}\".format(\n",
    "        train_loss, train_accuracy, valid_loss, valid_accuracy))"
   ]
  },
  {
   "cell_type": "markdown",
   "metadata": {},
   "source": [
    "### Hyperparameters\n",
    "Tune the following parameters:\n",
    "* Set `epochs` to the number of iterations until the network stops learning or start overfitting\n",
    "* Set `batch_size` to the highest number that your machine has memory for.  Most people set them to common sizes of memory:\n",
    " * 64\n",
    " * 128\n",
    " * 256\n",
    " * ...\n",
    "* Set `keep_probability` to the probability of keeping a node using dropout"
   ]
  },
  {
   "cell_type": "code",
   "execution_count": 79,
   "metadata": {
    "collapsed": true
   },
   "outputs": [],
   "source": [
    "# TODO: Tune Parameters\n",
    "epochs = 40\n",
    "batch_size = 512\n",
    "keep_probability = 0.4"
   ]
  },
  {
   "cell_type": "markdown",
   "metadata": {},
   "source": [
    "### Train on a Single CIFAR-10 Batch\n",
    "Instead of training the neural network on all the CIFAR-10 batches of data, let's use a single batch. This should save time while you iterate on the model to get a better accuracy.  Once the final validation accuracy is 50% or greater, run the model on all the data in the next section."
   ]
  },
  {
   "cell_type": "code",
   "execution_count": 80,
   "metadata": {},
   "outputs": [
    {
     "name": "stdout",
     "output_type": "stream",
     "text": [
      "Checking the Training on a Single Batch...\n",
      "Epoch  1, CIFAR-10 Batch 1:  Train Loss: 2.2651, Train Accuracy: 0.199, Valid Loss: 2.2580 Valid Accuracy: 0.223\n",
      "Epoch  2, CIFAR-10 Batch 1:  Train Loss: 2.1599, Train Accuracy: 0.189, Valid Loss: 2.1041 Valid Accuracy: 0.234\n",
      "Epoch  3, CIFAR-10 Batch 1:  Train Loss: 2.0282, Train Accuracy: 0.294, Valid Loss: 1.9533 Valid Accuracy: 0.317\n",
      "Epoch  4, CIFAR-10 Batch 1:  Train Loss: 1.8343, Train Accuracy: 0.378, Valid Loss: 1.7787 Valid Accuracy: 0.362\n",
      "Epoch  5, CIFAR-10 Batch 1:  Train Loss: 1.7537, Train Accuracy: 0.395, Valid Loss: 1.6891 Valid Accuracy: 0.392\n",
      "Epoch  6, CIFAR-10 Batch 1:  Train Loss: 1.6432, Train Accuracy: 0.470, Valid Loss: 1.5853 Valid Accuracy: 0.444\n",
      "Epoch  7, CIFAR-10 Batch 1:  Train Loss: 1.5077, Train Accuracy: 0.480, Valid Loss: 1.4821 Valid Accuracy: 0.468\n",
      "Epoch  8, CIFAR-10 Batch 1:  Train Loss: 1.4393, Train Accuracy: 0.514, Valid Loss: 1.4247 Valid Accuracy: 0.492\n",
      "Epoch  9, CIFAR-10 Batch 1:  Train Loss: 1.3685, Train Accuracy: 0.514, Valid Loss: 1.3837 Valid Accuracy: 0.502\n",
      "Epoch 10, CIFAR-10 Batch 1:  Train Loss: 1.2649, Train Accuracy: 0.557, Valid Loss: 1.3216 Valid Accuracy: 0.527\n",
      "Epoch 11, CIFAR-10 Batch 1:  Train Loss: 1.2125, Train Accuracy: 0.561, Valid Loss: 1.3030 Valid Accuracy: 0.531\n",
      "Epoch 12, CIFAR-10 Batch 1:  Train Loss: 1.1540, Train Accuracy: 0.601, Valid Loss: 1.2782 Valid Accuracy: 0.542\n",
      "Epoch 13, CIFAR-10 Batch 1:  Train Loss: 1.0747, Train Accuracy: 0.632, Valid Loss: 1.2554 Valid Accuracy: 0.553\n",
      "Epoch 14, CIFAR-10 Batch 1:  Train Loss: 1.0215, Train Accuracy: 0.645, Valid Loss: 1.2307 Valid Accuracy: 0.564\n",
      "Epoch 15, CIFAR-10 Batch 1:  Train Loss: 0.9582, Train Accuracy: 0.672, Valid Loss: 1.2051 Valid Accuracy: 0.564\n",
      "Epoch 16, CIFAR-10 Batch 1:  Train Loss: 0.9011, Train Accuracy: 0.699, Valid Loss: 1.1774 Valid Accuracy: 0.573\n",
      "Epoch 17, CIFAR-10 Batch 1:  Train Loss: 0.8493, Train Accuracy: 0.716, Valid Loss: 1.1847 Valid Accuracy: 0.569\n",
      "Epoch 18, CIFAR-10 Batch 1:  Train Loss: 0.8010, Train Accuracy: 0.733, Valid Loss: 1.1539 Valid Accuracy: 0.591\n",
      "Epoch 19, CIFAR-10 Batch 1:  Train Loss: 0.7685, Train Accuracy: 0.753, Valid Loss: 1.1620 Valid Accuracy: 0.580\n",
      "Epoch 20, CIFAR-10 Batch 1:  Train Loss: 0.6861, Train Accuracy: 0.791, Valid Loss: 1.1120 Valid Accuracy: 0.606\n",
      "Epoch 21, CIFAR-10 Batch 1:  Train Loss: 0.6245, Train Accuracy: 0.811, Valid Loss: 1.1022 Valid Accuracy: 0.606\n",
      "Epoch 22, CIFAR-10 Batch 1:  Train Loss: 0.6025, Train Accuracy: 0.811, Valid Loss: 1.0949 Valid Accuracy: 0.607\n",
      "Epoch 23, CIFAR-10 Batch 1:  Train Loss: 0.5544, Train Accuracy: 0.841, Valid Loss: 1.0969 Valid Accuracy: 0.602\n",
      "Epoch 24, CIFAR-10 Batch 1:  Train Loss: 0.4963, Train Accuracy: 0.872, Valid Loss: 1.0701 Valid Accuracy: 0.619\n",
      "Epoch 25, CIFAR-10 Batch 1:  Train Loss: 0.4609, Train Accuracy: 0.878, Valid Loss: 1.0742 Valid Accuracy: 0.622\n",
      "Epoch 26, CIFAR-10 Batch 1:  Train Loss: 0.4373, Train Accuracy: 0.882, Valid Loss: 1.0726 Valid Accuracy: 0.622\n",
      "Epoch 27, CIFAR-10 Batch 1:  Train Loss: 0.4018, Train Accuracy: 0.885, Valid Loss: 1.0767 Valid Accuracy: 0.618\n",
      "Epoch 28, CIFAR-10 Batch 1:  Train Loss: 0.3494, Train Accuracy: 0.909, Valid Loss: 1.0730 Valid Accuracy: 0.619\n",
      "Epoch 29, CIFAR-10 Batch 1:  Train Loss: 0.3275, Train Accuracy: 0.916, Valid Loss: 1.0418 Valid Accuracy: 0.636\n",
      "Epoch 30, CIFAR-10 Batch 1:  Train Loss: 0.3187, Train Accuracy: 0.926, Valid Loss: 1.0838 Valid Accuracy: 0.622\n",
      "Epoch 31, CIFAR-10 Batch 1:  Train Loss: 0.2768, Train Accuracy: 0.929, Valid Loss: 1.0888 Valid Accuracy: 0.628\n",
      "Epoch 32, CIFAR-10 Batch 1:  Train Loss: 0.2596, Train Accuracy: 0.939, Valid Loss: 1.1201 Valid Accuracy: 0.622\n",
      "Epoch 33, CIFAR-10 Batch 1:  Train Loss: 0.2270, Train Accuracy: 0.963, Valid Loss: 1.0730 Valid Accuracy: 0.634\n",
      "Epoch 34, CIFAR-10 Batch 1:  Train Loss: 0.2154, Train Accuracy: 0.956, Valid Loss: 1.1034 Valid Accuracy: 0.630\n",
      "Epoch 35, CIFAR-10 Batch 1:  Train Loss: 0.1654, Train Accuracy: 0.976, Valid Loss: 1.0818 Valid Accuracy: 0.639\n",
      "Epoch 36, CIFAR-10 Batch 1:  Train Loss: 0.1703, Train Accuracy: 0.980, Valid Loss: 1.0785 Valid Accuracy: 0.642\n",
      "Epoch 37, CIFAR-10 Batch 1:  Train Loss: 0.1437, Train Accuracy: 0.983, Valid Loss: 1.0662 Valid Accuracy: 0.647\n",
      "Epoch 38, CIFAR-10 Batch 1:  Train Loss: 0.1256, Train Accuracy: 0.990, Valid Loss: 1.0871 Valid Accuracy: 0.642\n",
      "Epoch 39, CIFAR-10 Batch 1:  Train Loss: 0.1098, Train Accuracy: 0.993, Valid Loss: 1.1084 Valid Accuracy: 0.639\n",
      "Epoch 40, CIFAR-10 Batch 1:  Train Loss: 0.1031, Train Accuracy: 0.990, Valid Loss: 1.1081 Valid Accuracy: 0.637\n"
     ]
    }
   ],
   "source": [
    "\"\"\"\n",
    "DON'T MODIFY ANYTHING IN THIS CELL\n",
    "\"\"\"\n",
    "print('Checking the Training on a Single Batch...')\n",
    "with tf.Session() as sess:\n",
    "    # Initializing the variables\n",
    "    sess.run(tf.global_variables_initializer())\n",
    "    \n",
    "    # Training cycle\n",
    "    for epoch in range(epochs):\n",
    "        batch_i = 1\n",
    "        for batch_features, batch_labels in helper.load_preprocess_training_batch(batch_i, batch_size):\n",
    "            train_neural_network(sess, optimizer, keep_probability, batch_features, batch_labels)\n",
    "        print('Epoch {:>2}, CIFAR-10 Batch {}:  '.format(epoch + 1, batch_i), end='')\n",
    "        print_stats(sess, batch_features, batch_labels, cost, accuracy)"
   ]
  },
  {
   "cell_type": "code",
   "execution_count": 81,
   "metadata": {},
   "outputs": [
    {
     "data": {
      "text/plain": [
       "(array([0, 1, 2, 3, 4, 5, 6, 7, 8, 9]),\n",
       " array([32, 28, 26, 29, 26, 31, 26, 34, 32, 32]))"
      ]
     },
     "execution_count": 81,
     "metadata": {},
     "output_type": "execute_result"
    }
   ],
   "source": [
    "np.unique(np.argmax(batch_labels, 1), return_counts=True)"
   ]
  },
  {
   "cell_type": "markdown",
   "metadata": {},
   "source": [
    "### Fully Train the Model\n",
    "Now that you got a good accuracy with a single CIFAR-10 batch, try it with all five batches."
   ]
  },
  {
   "cell_type": "code",
   "execution_count": 82,
   "metadata": {},
   "outputs": [
    {
     "name": "stdout",
     "output_type": "stream",
     "text": [
      "Training...\n",
      "Epoch  1, CIFAR-10 Batch 1:  Train Loss: 2.2496, Train Accuracy: 0.182, Valid Loss: 2.2358 Valid Accuracy: 0.209\n",
      "Epoch  1, CIFAR-10 Batch 2:  Train Loss: 2.0942, Train Accuracy: 0.220, Valid Loss: 2.0984 Valid Accuracy: 0.238\n",
      "Epoch  1, CIFAR-10 Batch 3:  Train Loss: 1.8636, Train Accuracy: 0.426, Valid Loss: 1.9088 Valid Accuracy: 0.338\n",
      "Epoch  1, CIFAR-10 Batch 4:  Train Loss: 1.6750, Train Accuracy: 0.402, Valid Loss: 1.7109 Valid Accuracy: 0.395\n",
      "Epoch  1, CIFAR-10 Batch 5:  Train Loss: 1.6357, Train Accuracy: 0.446, Valid Loss: 1.6427 Valid Accuracy: 0.408\n",
      "Epoch  2, CIFAR-10 Batch 1:  Train Loss: 1.6326, Train Accuracy: 0.419, Valid Loss: 1.5604 Valid Accuracy: 0.435\n",
      "Epoch  2, CIFAR-10 Batch 2:  Train Loss: 1.5112, Train Accuracy: 0.473, Valid Loss: 1.5031 Valid Accuracy: 0.462\n",
      "Epoch  2, CIFAR-10 Batch 3:  Train Loss: 1.3114, Train Accuracy: 0.551, Valid Loss: 1.4419 Valid Accuracy: 0.483\n",
      "Epoch  2, CIFAR-10 Batch 4:  Train Loss: 1.2910, Train Accuracy: 0.534, Valid Loss: 1.3780 Valid Accuracy: 0.501\n",
      "Epoch  2, CIFAR-10 Batch 5:  Train Loss: 1.2606, Train Accuracy: 0.557, Valid Loss: 1.3433 Valid Accuracy: 0.522\n",
      "Epoch  3, CIFAR-10 Batch 1:  Train Loss: 1.3369, Train Accuracy: 0.551, Valid Loss: 1.2916 Valid Accuracy: 0.544\n",
      "Epoch  3, CIFAR-10 Batch 2:  Train Loss: 1.2200, Train Accuracy: 0.547, Valid Loss: 1.2469 Valid Accuracy: 0.564\n",
      "Epoch  3, CIFAR-10 Batch 3:  Train Loss: 1.0912, Train Accuracy: 0.605, Valid Loss: 1.2471 Valid Accuracy: 0.564\n",
      "Epoch  3, CIFAR-10 Batch 4:  Train Loss: 1.0673, Train Accuracy: 0.608, Valid Loss: 1.1923 Valid Accuracy: 0.576\n",
      "Epoch  3, CIFAR-10 Batch 5:  Train Loss: 1.0926, Train Accuracy: 0.622, Valid Loss: 1.1998 Valid Accuracy: 0.571\n",
      "Epoch  4, CIFAR-10 Batch 1:  Train Loss: 1.1553, Train Accuracy: 0.591, Valid Loss: 1.1659 Valid Accuracy: 0.590\n",
      "Epoch  4, CIFAR-10 Batch 2:  Train Loss: 1.0607, Train Accuracy: 0.618, Valid Loss: 1.1396 Valid Accuracy: 0.608\n",
      "Epoch  4, CIFAR-10 Batch 3:  Train Loss: 0.9738, Train Accuracy: 0.672, Valid Loss: 1.1432 Valid Accuracy: 0.602\n",
      "Epoch  4, CIFAR-10 Batch 4:  Train Loss: 0.9467, Train Accuracy: 0.662, Valid Loss: 1.0935 Valid Accuracy: 0.617\n",
      "Epoch  4, CIFAR-10 Batch 5:  Train Loss: 0.9559, Train Accuracy: 0.672, Valid Loss: 1.0698 Valid Accuracy: 0.623\n",
      "Epoch  5, CIFAR-10 Batch 1:  Train Loss: 1.0386, Train Accuracy: 0.662, Valid Loss: 1.0713 Valid Accuracy: 0.622\n",
      "Epoch  5, CIFAR-10 Batch 2:  Train Loss: 0.9568, Train Accuracy: 0.696, Valid Loss: 1.0474 Valid Accuracy: 0.635\n",
      "Epoch  5, CIFAR-10 Batch 3:  Train Loss: 0.8704, Train Accuracy: 0.716, Valid Loss: 1.0442 Valid Accuracy: 0.632\n",
      "Epoch  5, CIFAR-10 Batch 4:  Train Loss: 0.8633, Train Accuracy: 0.693, Valid Loss: 1.0196 Valid Accuracy: 0.639\n",
      "Epoch  5, CIFAR-10 Batch 5:  Train Loss: 0.8824, Train Accuracy: 0.713, Valid Loss: 1.0106 Valid Accuracy: 0.642\n",
      "Epoch  6, CIFAR-10 Batch 1:  Train Loss: 0.9265, Train Accuracy: 0.672, Valid Loss: 1.0017 Valid Accuracy: 0.648\n",
      "Epoch  6, CIFAR-10 Batch 2:  Train Loss: 0.8420, Train Accuracy: 0.713, Valid Loss: 0.9696 Valid Accuracy: 0.666\n",
      "Epoch  6, CIFAR-10 Batch 3:  Train Loss: 0.7829, Train Accuracy: 0.736, Valid Loss: 0.9787 Valid Accuracy: 0.665\n",
      "Epoch  6, CIFAR-10 Batch 4:  Train Loss: 0.7795, Train Accuracy: 0.730, Valid Loss: 0.9651 Valid Accuracy: 0.665\n",
      "Epoch  6, CIFAR-10 Batch 5:  Train Loss: 0.7661, Train Accuracy: 0.764, Valid Loss: 0.9383 Valid Accuracy: 0.675\n",
      "Epoch  7, CIFAR-10 Batch 1:  Train Loss: 0.8659, Train Accuracy: 0.706, Valid Loss: 0.9470 Valid Accuracy: 0.669\n",
      "Epoch  7, CIFAR-10 Batch 2:  Train Loss: 0.7853, Train Accuracy: 0.733, Valid Loss: 0.9245 Valid Accuracy: 0.682\n",
      "Epoch  7, CIFAR-10 Batch 3:  Train Loss: 0.7424, Train Accuracy: 0.757, Valid Loss: 0.9458 Valid Accuracy: 0.671\n",
      "Epoch  7, CIFAR-10 Batch 4:  Train Loss: 0.7377, Train Accuracy: 0.753, Valid Loss: 0.9370 Valid Accuracy: 0.674\n",
      "Epoch  7, CIFAR-10 Batch 5:  Train Loss: 0.7125, Train Accuracy: 0.784, Valid Loss: 0.9006 Valid Accuracy: 0.684\n",
      "Epoch  8, CIFAR-10 Batch 1:  Train Loss: 0.8105, Train Accuracy: 0.747, Valid Loss: 0.9000 Valid Accuracy: 0.691\n",
      "Epoch  8, CIFAR-10 Batch 2:  Train Loss: 0.7626, Train Accuracy: 0.750, Valid Loss: 0.9164 Valid Accuracy: 0.682\n",
      "Epoch  8, CIFAR-10 Batch 3:  Train Loss: 0.6735, Train Accuracy: 0.770, Valid Loss: 0.9114 Valid Accuracy: 0.679\n",
      "Epoch  8, CIFAR-10 Batch 4:  Train Loss: 0.6346, Train Accuracy: 0.791, Valid Loss: 0.8722 Valid Accuracy: 0.697\n",
      "Epoch  8, CIFAR-10 Batch 5:  Train Loss: 0.6560, Train Accuracy: 0.797, Valid Loss: 0.8755 Valid Accuracy: 0.692\n",
      "Epoch  9, CIFAR-10 Batch 1:  Train Loss: 0.7207, Train Accuracy: 0.757, Valid Loss: 0.8546 Valid Accuracy: 0.702\n",
      "Epoch  9, CIFAR-10 Batch 2:  Train Loss: 0.6900, Train Accuracy: 0.777, Valid Loss: 0.8683 Valid Accuracy: 0.699\n",
      "Epoch  9, CIFAR-10 Batch 3:  Train Loss: 0.6474, Train Accuracy: 0.780, Valid Loss: 0.9099 Valid Accuracy: 0.676\n",
      "Epoch  9, CIFAR-10 Batch 4:  Train Loss: 0.5932, Train Accuracy: 0.807, Valid Loss: 0.8506 Valid Accuracy: 0.700\n",
      "Epoch  9, CIFAR-10 Batch 5:  Train Loss: 0.5987, Train Accuracy: 0.814, Valid Loss: 0.8456 Valid Accuracy: 0.703\n",
      "Epoch 10, CIFAR-10 Batch 1:  Train Loss: 0.6766, Train Accuracy: 0.774, Valid Loss: 0.8391 Valid Accuracy: 0.704\n",
      "Epoch 10, CIFAR-10 Batch 2:  Train Loss: 0.6655, Train Accuracy: 0.787, Valid Loss: 0.8732 Valid Accuracy: 0.701\n",
      "Epoch 10, CIFAR-10 Batch 3:  Train Loss: 0.5773, Train Accuracy: 0.791, Valid Loss: 0.8470 Valid Accuracy: 0.701\n",
      "Epoch 10, CIFAR-10 Batch 4:  Train Loss: 0.5356, Train Accuracy: 0.831, Valid Loss: 0.8227 Valid Accuracy: 0.711\n",
      "Epoch 10, CIFAR-10 Batch 5:  Train Loss: 0.5519, Train Accuracy: 0.818, Valid Loss: 0.8487 Valid Accuracy: 0.703\n",
      "Epoch 11, CIFAR-10 Batch 1:  Train Loss: 0.6180, Train Accuracy: 0.777, Valid Loss: 0.8278 Valid Accuracy: 0.708\n",
      "Epoch 11, CIFAR-10 Batch 2:  Train Loss: 0.6252, Train Accuracy: 0.797, Valid Loss: 0.8811 Valid Accuracy: 0.695\n",
      "Epoch 11, CIFAR-10 Batch 3:  Train Loss: 0.5369, Train Accuracy: 0.821, Valid Loss: 0.8353 Valid Accuracy: 0.715\n",
      "Epoch 11, CIFAR-10 Batch 4:  Train Loss: 0.5039, Train Accuracy: 0.841, Valid Loss: 0.8060 Valid Accuracy: 0.714\n",
      "Epoch 11, CIFAR-10 Batch 5:  Train Loss: 0.5433, Train Accuracy: 0.845, Valid Loss: 0.8250 Valid Accuracy: 0.710\n",
      "Epoch 12, CIFAR-10 Batch 1:  Train Loss: 0.5697, Train Accuracy: 0.804, Valid Loss: 0.7924 Valid Accuracy: 0.726\n",
      "Epoch 12, CIFAR-10 Batch 2:  Train Loss: 0.5641, Train Accuracy: 0.834, Valid Loss: 0.8328 Valid Accuracy: 0.711\n",
      "Epoch 12, CIFAR-10 Batch 3:  Train Loss: 0.4841, Train Accuracy: 0.818, Valid Loss: 0.8209 Valid Accuracy: 0.712\n",
      "Epoch 12, CIFAR-10 Batch 4:  Train Loss: 0.4835, Train Accuracy: 0.868, Valid Loss: 0.7874 Valid Accuracy: 0.724\n",
      "Epoch 12, CIFAR-10 Batch 5:  Train Loss: 0.4885, Train Accuracy: 0.868, Valid Loss: 0.7901 Valid Accuracy: 0.719\n",
      "Epoch 13, CIFAR-10 Batch 1:  Train Loss: 0.5520, Train Accuracy: 0.814, Valid Loss: 0.8373 Valid Accuracy: 0.704\n",
      "Epoch 13, CIFAR-10 Batch 2:  Train Loss: 0.5486, Train Accuracy: 0.831, Valid Loss: 0.7905 Valid Accuracy: 0.720\n",
      "Epoch 13, CIFAR-10 Batch 3:  Train Loss: 0.4447, Train Accuracy: 0.868, Valid Loss: 0.7768 Valid Accuracy: 0.730\n",
      "Epoch 13, CIFAR-10 Batch 4:  Train Loss: 0.4429, Train Accuracy: 0.875, Valid Loss: 0.7856 Valid Accuracy: 0.727\n",
      "Epoch 13, CIFAR-10 Batch 5:  Train Loss: 0.4660, Train Accuracy: 0.865, Valid Loss: 0.7751 Valid Accuracy: 0.728\n",
      "Epoch 14, CIFAR-10 Batch 1:  Train Loss: 0.5014, Train Accuracy: 0.838, Valid Loss: 0.7927 Valid Accuracy: 0.725\n",
      "Epoch 14, CIFAR-10 Batch 2:  Train Loss: 0.5184, Train Accuracy: 0.831, Valid Loss: 0.7886 Valid Accuracy: 0.730\n",
      "Epoch 14, CIFAR-10 Batch 3:  Train Loss: 0.4332, Train Accuracy: 0.858, Valid Loss: 0.7697 Valid Accuracy: 0.728\n",
      "Epoch 14, CIFAR-10 Batch 4:  Train Loss: 0.4152, Train Accuracy: 0.899, Valid Loss: 0.7609 Valid Accuracy: 0.733\n",
      "Epoch 14, CIFAR-10 Batch 5:  Train Loss: 0.4224, Train Accuracy: 0.878, Valid Loss: 0.7805 Valid Accuracy: 0.724\n",
      "Epoch 15, CIFAR-10 Batch 1:  Train Loss: 0.4552, Train Accuracy: 0.848, Valid Loss: 0.7605 Valid Accuracy: 0.731\n",
      "Epoch 15, CIFAR-10 Batch 2:  Train Loss: 0.4673, Train Accuracy: 0.851, Valid Loss: 0.7757 Valid Accuracy: 0.730\n",
      "Epoch 15, CIFAR-10 Batch 3:  Train Loss: 0.3893, Train Accuracy: 0.875, Valid Loss: 0.7613 Valid Accuracy: 0.732\n"
     ]
    },
    {
     "name": "stdout",
     "output_type": "stream",
     "text": [
      "Epoch 15, CIFAR-10 Batch 4:  Train Loss: 0.3749, Train Accuracy: 0.916, Valid Loss: 0.7389 Valid Accuracy: 0.742\n",
      "Epoch 15, CIFAR-10 Batch 5:  Train Loss: 0.4182, Train Accuracy: 0.865, Valid Loss: 0.7718 Valid Accuracy: 0.729\n",
      "Epoch 16, CIFAR-10 Batch 1:  Train Loss: 0.4255, Train Accuracy: 0.875, Valid Loss: 0.7553 Valid Accuracy: 0.740\n",
      "Epoch 16, CIFAR-10 Batch 2:  Train Loss: 0.4358, Train Accuracy: 0.878, Valid Loss: 0.7485 Valid Accuracy: 0.742\n",
      "Epoch 16, CIFAR-10 Batch 3:  Train Loss: 0.3858, Train Accuracy: 0.889, Valid Loss: 0.7604 Valid Accuracy: 0.735\n",
      "Epoch 16, CIFAR-10 Batch 4:  Train Loss: 0.3437, Train Accuracy: 0.912, Valid Loss: 0.7228 Valid Accuracy: 0.752\n",
      "Epoch 16, CIFAR-10 Batch 5:  Train Loss: 0.3720, Train Accuracy: 0.895, Valid Loss: 0.7503 Valid Accuracy: 0.739\n",
      "Epoch 17, CIFAR-10 Batch 1:  Train Loss: 0.3809, Train Accuracy: 0.895, Valid Loss: 0.7253 Valid Accuracy: 0.745\n",
      "Epoch 17, CIFAR-10 Batch 2:  Train Loss: 0.4037, Train Accuracy: 0.872, Valid Loss: 0.7293 Valid Accuracy: 0.748\n",
      "Epoch 17, CIFAR-10 Batch 3:  Train Loss: 0.3306, Train Accuracy: 0.905, Valid Loss: 0.7155 Valid Accuracy: 0.751\n",
      "Epoch 17, CIFAR-10 Batch 4:  Train Loss: 0.3292, Train Accuracy: 0.916, Valid Loss: 0.7167 Valid Accuracy: 0.754\n",
      "Epoch 17, CIFAR-10 Batch 5:  Train Loss: 0.3593, Train Accuracy: 0.892, Valid Loss: 0.7725 Valid Accuracy: 0.729\n",
      "Epoch 18, CIFAR-10 Batch 1:  Train Loss: 0.3637, Train Accuracy: 0.868, Valid Loss: 0.7335 Valid Accuracy: 0.746\n",
      "Epoch 18, CIFAR-10 Batch 2:  Train Loss: 0.3818, Train Accuracy: 0.912, Valid Loss: 0.7158 Valid Accuracy: 0.755\n",
      "Epoch 18, CIFAR-10 Batch 3:  Train Loss: 0.3020, Train Accuracy: 0.916, Valid Loss: 0.7101 Valid Accuracy: 0.753\n",
      "Epoch 18, CIFAR-10 Batch 4:  Train Loss: 0.2938, Train Accuracy: 0.929, Valid Loss: 0.7091 Valid Accuracy: 0.756\n",
      "Epoch 18, CIFAR-10 Batch 5:  Train Loss: 0.3197, Train Accuracy: 0.932, Valid Loss: 0.7211 Valid Accuracy: 0.747\n",
      "Epoch 19, CIFAR-10 Batch 1:  Train Loss: 0.3447, Train Accuracy: 0.905, Valid Loss: 0.6980 Valid Accuracy: 0.762\n",
      "Epoch 19, CIFAR-10 Batch 2:  Train Loss: 0.3490, Train Accuracy: 0.916, Valid Loss: 0.6984 Valid Accuracy: 0.759\n",
      "Epoch 19, CIFAR-10 Batch 3:  Train Loss: 0.3026, Train Accuracy: 0.909, Valid Loss: 0.7227 Valid Accuracy: 0.747\n",
      "Epoch 19, CIFAR-10 Batch 4:  Train Loss: 0.2951, Train Accuracy: 0.929, Valid Loss: 0.7103 Valid Accuracy: 0.760\n",
      "Epoch 19, CIFAR-10 Batch 5:  Train Loss: 0.3114, Train Accuracy: 0.916, Valid Loss: 0.7338 Valid Accuracy: 0.740\n",
      "Epoch 20, CIFAR-10 Batch 1:  Train Loss: 0.3134, Train Accuracy: 0.909, Valid Loss: 0.6953 Valid Accuracy: 0.760\n",
      "Epoch 20, CIFAR-10 Batch 2:  Train Loss: 0.3366, Train Accuracy: 0.912, Valid Loss: 0.7090 Valid Accuracy: 0.755\n",
      "Epoch 20, CIFAR-10 Batch 3:  Train Loss: 0.2908, Train Accuracy: 0.919, Valid Loss: 0.7369 Valid Accuracy: 0.746\n",
      "Epoch 20, CIFAR-10 Batch 4:  Train Loss: 0.2828, Train Accuracy: 0.912, Valid Loss: 0.7178 Valid Accuracy: 0.753\n",
      "Epoch 20, CIFAR-10 Batch 5:  Train Loss: 0.3043, Train Accuracy: 0.912, Valid Loss: 0.7191 Valid Accuracy: 0.755\n",
      "Epoch 21, CIFAR-10 Batch 1:  Train Loss: 0.2931, Train Accuracy: 0.922, Valid Loss: 0.6964 Valid Accuracy: 0.760\n",
      "Epoch 21, CIFAR-10 Batch 2:  Train Loss: 0.3123, Train Accuracy: 0.919, Valid Loss: 0.6888 Valid Accuracy: 0.762\n",
      "Epoch 21, CIFAR-10 Batch 3:  Train Loss: 0.2527, Train Accuracy: 0.926, Valid Loss: 0.6860 Valid Accuracy: 0.767\n",
      "Epoch 21, CIFAR-10 Batch 4:  Train Loss: 0.2732, Train Accuracy: 0.936, Valid Loss: 0.7143 Valid Accuracy: 0.752\n",
      "Epoch 21, CIFAR-10 Batch 5:  Train Loss: 0.2856, Train Accuracy: 0.919, Valid Loss: 0.7251 Valid Accuracy: 0.748\n",
      "Epoch 22, CIFAR-10 Batch 1:  Train Loss: 0.3037, Train Accuracy: 0.916, Valid Loss: 0.6919 Valid Accuracy: 0.761\n",
      "Epoch 22, CIFAR-10 Batch 2:  Train Loss: 0.3273, Train Accuracy: 0.909, Valid Loss: 0.6997 Valid Accuracy: 0.753\n",
      "Epoch 22, CIFAR-10 Batch 3:  Train Loss: 0.2523, Train Accuracy: 0.929, Valid Loss: 0.7149 Valid Accuracy: 0.755\n",
      "Epoch 22, CIFAR-10 Batch 4:  Train Loss: 0.2416, Train Accuracy: 0.949, Valid Loss: 0.6866 Valid Accuracy: 0.761\n",
      "Epoch 22, CIFAR-10 Batch 5:  Train Loss: 0.2463, Train Accuracy: 0.939, Valid Loss: 0.6870 Valid Accuracy: 0.759\n",
      "Epoch 23, CIFAR-10 Batch 1:  Train Loss: 0.2612, Train Accuracy: 0.922, Valid Loss: 0.6905 Valid Accuracy: 0.761\n",
      "Epoch 23, CIFAR-10 Batch 2:  Train Loss: 0.2793, Train Accuracy: 0.926, Valid Loss: 0.6675 Valid Accuracy: 0.769\n",
      "Epoch 23, CIFAR-10 Batch 3:  Train Loss: 0.2342, Train Accuracy: 0.949, Valid Loss: 0.6847 Valid Accuracy: 0.769\n",
      "Epoch 23, CIFAR-10 Batch 4:  Train Loss: 0.2190, Train Accuracy: 0.939, Valid Loss: 0.6864 Valid Accuracy: 0.767\n",
      "Epoch 23, CIFAR-10 Batch 5:  Train Loss: 0.2176, Train Accuracy: 0.949, Valid Loss: 0.6902 Valid Accuracy: 0.764\n",
      "Epoch 24, CIFAR-10 Batch 1:  Train Loss: 0.2654, Train Accuracy: 0.936, Valid Loss: 0.6711 Valid Accuracy: 0.769\n",
      "Epoch 24, CIFAR-10 Batch 2:  Train Loss: 0.2692, Train Accuracy: 0.936, Valid Loss: 0.6816 Valid Accuracy: 0.765\n",
      "Epoch 24, CIFAR-10 Batch 3:  Train Loss: 0.2091, Train Accuracy: 0.970, Valid Loss: 0.6773 Valid Accuracy: 0.764\n",
      "Epoch 24, CIFAR-10 Batch 4:  Train Loss: 0.2239, Train Accuracy: 0.953, Valid Loss: 0.6708 Valid Accuracy: 0.763\n",
      "Epoch 24, CIFAR-10 Batch 5:  Train Loss: 0.2238, Train Accuracy: 0.939, Valid Loss: 0.6845 Valid Accuracy: 0.760\n",
      "Epoch 25, CIFAR-10 Batch 1:  Train Loss: 0.2217, Train Accuracy: 0.946, Valid Loss: 0.6648 Valid Accuracy: 0.771\n",
      "Epoch 25, CIFAR-10 Batch 2:  Train Loss: 0.2363, Train Accuracy: 0.943, Valid Loss: 0.6680 Valid Accuracy: 0.765\n",
      "Epoch 25, CIFAR-10 Batch 3:  Train Loss: 0.2099, Train Accuracy: 0.943, Valid Loss: 0.6801 Valid Accuracy: 0.763\n",
      "Epoch 25, CIFAR-10 Batch 4:  Train Loss: 0.2072, Train Accuracy: 0.953, Valid Loss: 0.6644 Valid Accuracy: 0.771\n",
      "Epoch 25, CIFAR-10 Batch 5:  Train Loss: 0.1971, Train Accuracy: 0.959, Valid Loss: 0.6860 Valid Accuracy: 0.763\n",
      "Epoch 26, CIFAR-10 Batch 1:  Train Loss: 0.2233, Train Accuracy: 0.943, Valid Loss: 0.6714 Valid Accuracy: 0.771\n",
      "Epoch 26, CIFAR-10 Batch 2:  Train Loss: 0.2271, Train Accuracy: 0.936, Valid Loss: 0.6681 Valid Accuracy: 0.768\n",
      "Epoch 26, CIFAR-10 Batch 3:  Train Loss: 0.1852, Train Accuracy: 0.966, Valid Loss: 0.6749 Valid Accuracy: 0.773\n",
      "Epoch 26, CIFAR-10 Batch 4:  Train Loss: 0.1989, Train Accuracy: 0.970, Valid Loss: 0.6913 Valid Accuracy: 0.760\n",
      "Epoch 26, CIFAR-10 Batch 5:  Train Loss: 0.2025, Train Accuracy: 0.956, Valid Loss: 0.6896 Valid Accuracy: 0.762\n",
      "Epoch 27, CIFAR-10 Batch 1:  Train Loss: 0.2099, Train Accuracy: 0.943, Valid Loss: 0.6604 Valid Accuracy: 0.770\n",
      "Epoch 27, CIFAR-10 Batch 2:  Train Loss: 0.2152, Train Accuracy: 0.956, Valid Loss: 0.6501 Valid Accuracy: 0.776\n",
      "Epoch 27, CIFAR-10 Batch 3:  Train Loss: 0.1879, Train Accuracy: 0.959, Valid Loss: 0.6816 Valid Accuracy: 0.769\n",
      "Epoch 27, CIFAR-10 Batch 4:  Train Loss: 0.1970, Train Accuracy: 0.959, Valid Loss: 0.6955 Valid Accuracy: 0.763\n",
      "Epoch 27, CIFAR-10 Batch 5:  Train Loss: 0.1882, Train Accuracy: 0.953, Valid Loss: 0.6811 Valid Accuracy: 0.771\n",
      "Epoch 28, CIFAR-10 Batch 1:  Train Loss: 0.1953, Train Accuracy: 0.959, Valid Loss: 0.6641 Valid Accuracy: 0.779\n",
      "Epoch 28, CIFAR-10 Batch 2:  Train Loss: 0.1957, Train Accuracy: 0.963, Valid Loss: 0.6556 Valid Accuracy: 0.774\n",
      "Epoch 28, CIFAR-10 Batch 3:  Train Loss: 0.1663, Train Accuracy: 0.963, Valid Loss: 0.6678 Valid Accuracy: 0.768\n",
      "Epoch 28, CIFAR-10 Batch 4:  Train Loss: 0.1668, Train Accuracy: 0.966, Valid Loss: 0.6565 Valid Accuracy: 0.779\n",
      "Epoch 28, CIFAR-10 Batch 5:  Train Loss: 0.1722, Train Accuracy: 0.966, Valid Loss: 0.6689 Valid Accuracy: 0.773\n",
      "Epoch 29, CIFAR-10 Batch 1:  Train Loss: 0.1815, Train Accuracy: 0.956, Valid Loss: 0.6650 Valid Accuracy: 0.770\n",
      "Epoch 29, CIFAR-10 Batch 2:  Train Loss: 0.1929, Train Accuracy: 0.949, Valid Loss: 0.6725 Valid Accuracy: 0.771\n",
      "Epoch 29, CIFAR-10 Batch 3:  Train Loss: 0.1617, Train Accuracy: 0.973, Valid Loss: 0.6707 Valid Accuracy: 0.769\n",
      "Epoch 29, CIFAR-10 Batch 4:  Train Loss: 0.1668, Train Accuracy: 0.963, Valid Loss: 0.6609 Valid Accuracy: 0.776\n",
      "Epoch 29, CIFAR-10 Batch 5:  Train Loss: 0.1495, Train Accuracy: 0.983, Valid Loss: 0.6622 Valid Accuracy: 0.771\n",
      "Epoch 30, CIFAR-10 Batch 1:  Train Loss: 0.1764, Train Accuracy: 0.959, Valid Loss: 0.6602 Valid Accuracy: 0.770\n"
     ]
    },
    {
     "name": "stdout",
     "output_type": "stream",
     "text": [
      "Epoch 30, CIFAR-10 Batch 2:  Train Loss: 0.1739, Train Accuracy: 0.963, Valid Loss: 0.6345 Valid Accuracy: 0.784\n",
      "Epoch 30, CIFAR-10 Batch 3:  Train Loss: 0.1487, Train Accuracy: 0.966, Valid Loss: 0.6644 Valid Accuracy: 0.775\n",
      "Epoch 30, CIFAR-10 Batch 4:  Train Loss: 0.1549, Train Accuracy: 0.973, Valid Loss: 0.6487 Valid Accuracy: 0.780\n",
      "Epoch 30, CIFAR-10 Batch 5:  Train Loss: 0.1533, Train Accuracy: 0.980, Valid Loss: 0.6664 Valid Accuracy: 0.770\n",
      "Epoch 31, CIFAR-10 Batch 1:  Train Loss: 0.1691, Train Accuracy: 0.956, Valid Loss: 0.6582 Valid Accuracy: 0.771\n",
      "Epoch 31, CIFAR-10 Batch 2:  Train Loss: 0.1921, Train Accuracy: 0.959, Valid Loss: 0.6456 Valid Accuracy: 0.778\n",
      "Epoch 31, CIFAR-10 Batch 3:  Train Loss: 0.1394, Train Accuracy: 0.973, Valid Loss: 0.6458 Valid Accuracy: 0.777\n",
      "Epoch 31, CIFAR-10 Batch 4:  Train Loss: 0.1499, Train Accuracy: 0.970, Valid Loss: 0.6406 Valid Accuracy: 0.782\n",
      "Epoch 31, CIFAR-10 Batch 5:  Train Loss: 0.1349, Train Accuracy: 0.986, Valid Loss: 0.6554 Valid Accuracy: 0.775\n",
      "Epoch 32, CIFAR-10 Batch 1:  Train Loss: 0.1512, Train Accuracy: 0.973, Valid Loss: 0.6380 Valid Accuracy: 0.785\n",
      "Epoch 32, CIFAR-10 Batch 2:  Train Loss: 0.1662, Train Accuracy: 0.973, Valid Loss: 0.6413 Valid Accuracy: 0.778\n",
      "Epoch 32, CIFAR-10 Batch 3:  Train Loss: 0.1419, Train Accuracy: 0.970, Valid Loss: 0.6453 Valid Accuracy: 0.783\n",
      "Epoch 32, CIFAR-10 Batch 4:  Train Loss: 0.1373, Train Accuracy: 0.980, Valid Loss: 0.6409 Valid Accuracy: 0.777\n",
      "Epoch 32, CIFAR-10 Batch 5:  Train Loss: 0.1287, Train Accuracy: 0.986, Valid Loss: 0.6498 Valid Accuracy: 0.781\n",
      "Epoch 33, CIFAR-10 Batch 1:  Train Loss: 0.1415, Train Accuracy: 0.980, Valid Loss: 0.6490 Valid Accuracy: 0.775\n",
      "Epoch 33, CIFAR-10 Batch 2:  Train Loss: 0.1625, Train Accuracy: 0.966, Valid Loss: 0.6446 Valid Accuracy: 0.779\n",
      "Epoch 33, CIFAR-10 Batch 3:  Train Loss: 0.1354, Train Accuracy: 0.976, Valid Loss: 0.6486 Valid Accuracy: 0.780\n",
      "Epoch 33, CIFAR-10 Batch 4:  Train Loss: 0.1257, Train Accuracy: 0.980, Valid Loss: 0.6358 Valid Accuracy: 0.787\n",
      "Epoch 33, CIFAR-10 Batch 5:  Train Loss: 0.1241, Train Accuracy: 0.986, Valid Loss: 0.6569 Valid Accuracy: 0.779\n",
      "Epoch 34, CIFAR-10 Batch 1:  Train Loss: 0.1468, Train Accuracy: 0.966, Valid Loss: 0.6480 Valid Accuracy: 0.781\n",
      "Epoch 34, CIFAR-10 Batch 2:  Train Loss: 0.1575, Train Accuracy: 0.970, Valid Loss: 0.6389 Valid Accuracy: 0.788\n",
      "Epoch 34, CIFAR-10 Batch 3:  Train Loss: 0.1261, Train Accuracy: 0.980, Valid Loss: 0.6400 Valid Accuracy: 0.781\n",
      "Epoch 34, CIFAR-10 Batch 4:  Train Loss: 0.1153, Train Accuracy: 0.976, Valid Loss: 0.6314 Valid Accuracy: 0.785\n",
      "Epoch 34, CIFAR-10 Batch 5:  Train Loss: 0.1137, Train Accuracy: 0.993, Valid Loss: 0.6421 Valid Accuracy: 0.780\n",
      "Epoch 35, CIFAR-10 Batch 1:  Train Loss: 0.1350, Train Accuracy: 0.973, Valid Loss: 0.6403 Valid Accuracy: 0.784\n",
      "Epoch 35, CIFAR-10 Batch 2:  Train Loss: 0.1356, Train Accuracy: 0.966, Valid Loss: 0.6356 Valid Accuracy: 0.785\n",
      "Epoch 35, CIFAR-10 Batch 3:  Train Loss: 0.1207, Train Accuracy: 0.986, Valid Loss: 0.6401 Valid Accuracy: 0.784\n",
      "Epoch 35, CIFAR-10 Batch 4:  Train Loss: 0.1147, Train Accuracy: 0.983, Valid Loss: 0.6341 Valid Accuracy: 0.791\n",
      "Epoch 35, CIFAR-10 Batch 5:  Train Loss: 0.1100, Train Accuracy: 0.990, Valid Loss: 0.6444 Valid Accuracy: 0.783\n",
      "Epoch 36, CIFAR-10 Batch 1:  Train Loss: 0.1171, Train Accuracy: 0.990, Valid Loss: 0.6433 Valid Accuracy: 0.783\n",
      "Epoch 36, CIFAR-10 Batch 2:  Train Loss: 0.1304, Train Accuracy: 0.976, Valid Loss: 0.6373 Valid Accuracy: 0.785\n",
      "Epoch 36, CIFAR-10 Batch 3:  Train Loss: 0.1176, Train Accuracy: 0.980, Valid Loss: 0.6439 Valid Accuracy: 0.781\n",
      "Epoch 36, CIFAR-10 Batch 4:  Train Loss: 0.1098, Train Accuracy: 0.983, Valid Loss: 0.6517 Valid Accuracy: 0.783\n",
      "Epoch 36, CIFAR-10 Batch 5:  Train Loss: 0.1042, Train Accuracy: 0.993, Valid Loss: 0.6394 Valid Accuracy: 0.787\n",
      "Epoch 37, CIFAR-10 Batch 1:  Train Loss: 0.1212, Train Accuracy: 0.973, Valid Loss: 0.6465 Valid Accuracy: 0.786\n",
      "Epoch 37, CIFAR-10 Batch 2:  Train Loss: 0.1300, Train Accuracy: 0.983, Valid Loss: 0.6357 Valid Accuracy: 0.782\n",
      "Epoch 37, CIFAR-10 Batch 3:  Train Loss: 0.1126, Train Accuracy: 0.980, Valid Loss: 0.6441 Valid Accuracy: 0.779\n",
      "Epoch 37, CIFAR-10 Batch 4:  Train Loss: 0.1107, Train Accuracy: 0.983, Valid Loss: 0.6478 Valid Accuracy: 0.779\n",
      "Epoch 37, CIFAR-10 Batch 5:  Train Loss: 0.1103, Train Accuracy: 0.986, Valid Loss: 0.6781 Valid Accuracy: 0.767\n",
      "Epoch 38, CIFAR-10 Batch 1:  Train Loss: 0.1197, Train Accuracy: 0.973, Valid Loss: 0.6558 Valid Accuracy: 0.779\n",
      "Epoch 38, CIFAR-10 Batch 2:  Train Loss: 0.1207, Train Accuracy: 0.976, Valid Loss: 0.6396 Valid Accuracy: 0.780\n",
      "Epoch 38, CIFAR-10 Batch 3:  Train Loss: 0.0975, Train Accuracy: 0.980, Valid Loss: 0.6354 Valid Accuracy: 0.785\n",
      "Epoch 38, CIFAR-10 Batch 4:  Train Loss: 0.0982, Train Accuracy: 0.990, Valid Loss: 0.6484 Valid Accuracy: 0.781\n",
      "Epoch 38, CIFAR-10 Batch 5:  Train Loss: 0.1023, Train Accuracy: 0.983, Valid Loss: 0.6685 Valid Accuracy: 0.773\n",
      "Epoch 39, CIFAR-10 Batch 1:  Train Loss: 0.1143, Train Accuracy: 0.980, Valid Loss: 0.6583 Valid Accuracy: 0.777\n",
      "Epoch 39, CIFAR-10 Batch 2:  Train Loss: 0.1216, Train Accuracy: 0.976, Valid Loss: 0.6358 Valid Accuracy: 0.784\n",
      "Epoch 39, CIFAR-10 Batch 3:  Train Loss: 0.0935, Train Accuracy: 0.983, Valid Loss: 0.6371 Valid Accuracy: 0.784\n",
      "Epoch 39, CIFAR-10 Batch 4:  Train Loss: 0.0924, Train Accuracy: 0.990, Valid Loss: 0.6370 Valid Accuracy: 0.789\n",
      "Epoch 39, CIFAR-10 Batch 5:  Train Loss: 0.0972, Train Accuracy: 0.990, Valid Loss: 0.6591 Valid Accuracy: 0.775\n",
      "Epoch 40, CIFAR-10 Batch 1:  Train Loss: 0.1083, Train Accuracy: 0.980, Valid Loss: 0.6497 Valid Accuracy: 0.780\n",
      "Epoch 40, CIFAR-10 Batch 2:  Train Loss: 0.1241, Train Accuracy: 0.973, Valid Loss: 0.6483 Valid Accuracy: 0.782\n",
      "Epoch 40, CIFAR-10 Batch 3:  Train Loss: 0.0899, Train Accuracy: 0.986, Valid Loss: 0.6481 Valid Accuracy: 0.784\n",
      "Epoch 40, CIFAR-10 Batch 4:  Train Loss: 0.0886, Train Accuracy: 0.990, Valid Loss: 0.6529 Valid Accuracy: 0.781\n",
      "Epoch 40, CIFAR-10 Batch 5:  Train Loss: 0.0863, Train Accuracy: 0.990, Valid Loss: 0.6349 Valid Accuracy: 0.786\n"
     ]
    }
   ],
   "source": [
    "\"\"\"\n",
    "DON'T MODIFY ANYTHING IN THIS CELL\n",
    "\"\"\"\n",
    "save_model_path = './image_classification'\n",
    "\n",
    "print('Training...')\n",
    "with tf.Session() as sess:\n",
    "    # Initializing the variables\n",
    "    sess.run(tf.global_variables_initializer())\n",
    "    \n",
    "    # Training cycle\n",
    "    for epoch in range(epochs):\n",
    "        # Loop over all batches\n",
    "        n_batches = 5\n",
    "        for batch_i in range(1, n_batches + 1):\n",
    "            for batch_features, batch_labels in helper.load_preprocess_training_batch(batch_i, batch_size):\n",
    "                train_neural_network(sess, optimizer, keep_probability, batch_features, batch_labels)\n",
    "            print('Epoch {:>2}, CIFAR-10 Batch {}:  '.format(epoch + 1, batch_i), end='')\n",
    "            print_stats(sess, batch_features, batch_labels, cost, accuracy)\n",
    "            \n",
    "    # Save Model\n",
    "    saver = tf.train.Saver()\n",
    "    save_path = saver.save(sess, save_model_path)"
   ]
  },
  {
   "cell_type": "markdown",
   "metadata": {},
   "source": [
    "# Checkpoint\n",
    "The model has been saved to disk.\n",
    "## Test Model\n",
    "Test your model against the test dataset.  This will be your final accuracy. You should have an accuracy greater than 50%. If you don't, keep tweaking the model architecture and parameters."
   ]
  },
  {
   "cell_type": "code",
   "execution_count": 83,
   "metadata": {},
   "outputs": [
    {
     "name": "stdout",
     "output_type": "stream",
     "text": [
      "INFO:tensorflow:Restoring parameters from ./image_classification\n",
      "Testing Accuracy: 0.7741325855255127\n",
      "\n"
     ]
    },
    {
     "data": {
      "image/png": "[encoded data removed]",
      "text/plain": [
       "<matplotlib.figure.Figure at 0x7f7b88c15128>"
      ]
     },
     "metadata": {
      "image/png": {
       "height": 319,
       "width": 355
      }
     },
     "output_type": "display_data"
    }
   ],
   "source": [
    "\"\"\"\n",
    "DON'T MODIFY ANYTHING IN THIS CELL\n",
    "\"\"\"\n",
    "%matplotlib inline\n",
    "%config InlineBackend.figure_format = 'retina'\n",
    "\n",
    "import tensorflow as tf\n",
    "import pickle\n",
    "import helper\n",
    "import random\n",
    "\n",
    "# Set batch size if not already set\n",
    "try:\n",
    "    if batch_size:\n",
    "        pass\n",
    "except NameError:\n",
    "    batch_size = 64\n",
    "\n",
    "save_model_path = './image_classification'\n",
    "n_samples = 4\n",
    "top_n_predictions = 3\n",
    "\n",
    "def test_model():\n",
    "    \"\"\"\n",
    "    Test the saved model against the test dataset\n",
    "    \"\"\"\n",
    "\n",
    "    test_features, test_labels = pickle.load(open('preprocess_test.p', mode='rb'))\n",
    "    loaded_graph = tf.Graph()\n",
    "\n",
    "    with tf.Session(graph=loaded_graph) as sess:\n",
    "        # Load model\n",
    "        loader = tf.train.import_meta_graph(save_model_path + '.meta')\n",
    "        loader.restore(sess, save_model_path)\n",
    "\n",
    "        # Get Tensors from loaded model\n",
    "        loaded_x = loaded_graph.get_tensor_by_name('x:0')\n",
    "        loaded_y = loaded_graph.get_tensor_by_name('y:0')\n",
    "        loaded_keep_prob = loaded_graph.get_tensor_by_name('keep_prob:0')\n",
    "        loaded_logits = loaded_graph.get_tensor_by_name('logits:0')\n",
    "        loaded_acc = loaded_graph.get_tensor_by_name('accuracy:0')\n",
    "        \n",
    "        # Get accuracy in batches for memory limitations\n",
    "        test_batch_acc_total = 0\n",
    "        test_batch_count = 0\n",
    "        \n",
    "        for test_feature_batch, test_label_batch in helper.batch_features_labels(test_features, test_labels, batch_size):\n",
    "            test_batch_acc_total += sess.run(\n",
    "                loaded_acc,\n",
    "                feed_dict={loaded_x: test_feature_batch, loaded_y: test_label_batch, loaded_keep_prob: 1.0})\n",
    "            test_batch_count += 1\n",
    "\n",
    "        print('Testing Accuracy: {}\\n'.format(test_batch_acc_total/test_batch_count))\n",
    "\n",
    "        # Print Random Samples\n",
    "        random_test_features, random_test_labels = tuple(zip(*random.sample(list(zip(test_features, test_labels)), n_samples)))\n",
    "        random_test_predictions = sess.run(\n",
    "            tf.nn.top_k(tf.nn.softmax(loaded_logits), top_n_predictions),\n",
    "            feed_dict={loaded_x: random_test_features, loaded_y: random_test_labels, loaded_keep_prob: 1.0})\n",
    "        helper.display_image_predictions(random_test_features, random_test_labels, random_test_predictions)\n",
    "\n",
    "\n",
    "test_model()"
   ]
  },
  {
   "cell_type": "markdown",
   "metadata": {},
   "source": [
    "## Why 50-80% Accuracy?\n",
    "You might be wondering why you can't get an accuracy any higher. First things first, 50% isn't bad for a simple CNN.  Pure guessing would get you 10% accuracy. However, you might notice people are getting scores [well above 80%](http://rodrigob.github.io/are_we_there_yet/build/classification_datasets_results.html#43494641522d3130).  That's because we haven't taught you all there is to know about neural networks. We still need to cover a few more techniques.\n",
    "## Submitting This Project\n",
    "When submitting this project, make sure to run all the cells before saving the notebook.  Save the notebook file as \"dlnd_image_classification.ipynb\" and save it as a HTML file under \"File\" -> \"Download as\".  Include the \"helper.py\" and \"problem_unittests.py\" files in your submission."
   ]
  }
 ],
 "metadata": {
  "kernelspec": {
   "display_name": "Python 3",
   "language": "python",
   "name": "python3"
  },
  "language_info": {
   "codemirror_mode": {
    "name": "ipython",
    "version": 3
   },
   "file_extension": ".py",
   "mimetype": "text/x-python",
   "name": "python",
   "nbconvert_exporter": "python",
   "pygments_lexer": "ipython3",
   "version": "3.5.2"
  }
 },
 "nbformat": 4,
 "nbformat_minor": 1
}
